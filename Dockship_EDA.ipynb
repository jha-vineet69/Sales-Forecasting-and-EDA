{
  "nbformat": 4,
  "nbformat_minor": 0,
  "metadata": {
    "colab": {
      "name": "Dockship - EDA",
      "provenance": [],
      "collapsed_sections": [],
      "authorship_tag": "ABX9TyPLmzXOjPT/CIWizIAb+dj8",
      "include_colab_link": true
    },
    "kernelspec": {
      "name": "python3",
      "display_name": "Python 3"
    },
    "accelerator": "TPU"
  },
  "cells": [
    {
      "cell_type": "markdown",
      "metadata": {
        "id": "view-in-github",
        "colab_type": "text"
      },
      "source": [
        "<a href=\"https://colab.research.google.com/github/jha-vineet69/Sales-Forecasting-and-EDA/blob/master/Dockship_EDA.ipynb\" target=\"_parent\"><img src=\"https://colab.research.google.com/assets/colab-badge.svg\" alt=\"Open In Colab\"/></a>"
      ]
    },
    {
      "cell_type": "code",
      "metadata": {
        "id": "-b5l8co-1-i5",
        "colab_type": "code",
        "colab": {}
      },
      "source": [
        "#Keep Things Cleaner\n",
        "import warnings\n",
        "warnings.filterwarnings(\"ignore\")\n",
        "\n",
        "#Working with Data\n",
        "import pandas as pd\n",
        "import numpy as np\n",
        "import scipy.stats as st\n",
        "\n",
        "#Data Visualization\n",
        "import matplotlib.pyplot as plt\n",
        "%matplotlib inline\n",
        "import seaborn as sns\n",
        "import folium\n",
        "\n",
        "#General Utility\n",
        "import os\n",
        "import time\n",
        "import datetime as dt\n",
        "\n",
        "#Fav Styling Options\n",
        "#Option 1:\n",
        "sns.set_style('whitegrid')\n",
        "sns.set_palette('rainbow')\n",
        "#Option 2:\n",
        "#plt.style.use('fivethirtyeight')\n",
        "#Option 3:\n",
        "#plt.style.use('ggplot')"
      ],
      "execution_count": 1,
      "outputs": []
    },
    {
      "cell_type": "markdown",
      "metadata": {
        "id": "ku5U_Mvh0a3G",
        "colab_type": "text"
      },
      "source": [
        "### DATA CLEANING"
      ]
    },
    {
      "cell_type": "code",
      "metadata": {
        "id": "F7Df-P50guvi",
        "colab_type": "code",
        "colab": {
          "base_uri": "https://localhost:8080/",
          "height": 363
        },
        "outputId": "c3419d6b-1d97-4bed-8c21-e497341c4576"
      },
      "source": [
        "df = pd.read_csv(\"https://raw.githubusercontent.com/jha-vineet69/Sales-Forecasting-and-EDA/master/train.csv\")\n",
        "df.head()"
      ],
      "execution_count": 2,
      "outputs": [
        {
          "output_type": "execute_result",
          "data": {
            "text/html": [
              "<div>\n",
              "<style scoped>\n",
              "    .dataframe tbody tr th:only-of-type {\n",
              "        vertical-align: middle;\n",
              "    }\n",
              "\n",
              "    .dataframe tbody tr th {\n",
              "        vertical-align: top;\n",
              "    }\n",
              "\n",
              "    .dataframe thead th {\n",
              "        text-align: right;\n",
              "    }\n",
              "</style>\n",
              "<table border=\"1\" class=\"dataframe\">\n",
              "  <thead>\n",
              "    <tr style=\"text-align: right;\">\n",
              "      <th></th>\n",
              "      <th>Row ID</th>\n",
              "      <th>Order ID</th>\n",
              "      <th>Order Date</th>\n",
              "      <th>Ship Date</th>\n",
              "      <th>Ship Mode</th>\n",
              "      <th>Customer ID</th>\n",
              "      <th>Customer Name</th>\n",
              "      <th>Segment</th>\n",
              "      <th>Country</th>\n",
              "      <th>City</th>\n",
              "      <th>State</th>\n",
              "      <th>Postal Code</th>\n",
              "      <th>Region</th>\n",
              "      <th>Product ID</th>\n",
              "      <th>Category</th>\n",
              "      <th>Sub-Category</th>\n",
              "      <th>Product Name</th>\n",
              "      <th>Sales</th>\n",
              "    </tr>\n",
              "  </thead>\n",
              "  <tbody>\n",
              "    <tr>\n",
              "      <th>0</th>\n",
              "      <td>1</td>\n",
              "      <td>CA-2017-152156</td>\n",
              "      <td>08/11/2017</td>\n",
              "      <td>11/11/2017</td>\n",
              "      <td>Second Class</td>\n",
              "      <td>CG-12520</td>\n",
              "      <td>Claire Gute</td>\n",
              "      <td>Consumer</td>\n",
              "      <td>United States</td>\n",
              "      <td>Henderson</td>\n",
              "      <td>Kentucky</td>\n",
              "      <td>42420.0</td>\n",
              "      <td>South</td>\n",
              "      <td>FUR-BO-10001798</td>\n",
              "      <td>Furniture</td>\n",
              "      <td>Bookcases</td>\n",
              "      <td>Bush Somerset Collection Bookcase</td>\n",
              "      <td>261.9600</td>\n",
              "    </tr>\n",
              "    <tr>\n",
              "      <th>1</th>\n",
              "      <td>2</td>\n",
              "      <td>CA-2017-152156</td>\n",
              "      <td>08/11/2017</td>\n",
              "      <td>11/11/2017</td>\n",
              "      <td>Second Class</td>\n",
              "      <td>CG-12520</td>\n",
              "      <td>Claire Gute</td>\n",
              "      <td>Consumer</td>\n",
              "      <td>United States</td>\n",
              "      <td>Henderson</td>\n",
              "      <td>Kentucky</td>\n",
              "      <td>42420.0</td>\n",
              "      <td>South</td>\n",
              "      <td>FUR-CH-10000454</td>\n",
              "      <td>Furniture</td>\n",
              "      <td>Chairs</td>\n",
              "      <td>Hon Deluxe Fabric Upholstered Stacking Chairs,...</td>\n",
              "      <td>731.9400</td>\n",
              "    </tr>\n",
              "    <tr>\n",
              "      <th>2</th>\n",
              "      <td>3</td>\n",
              "      <td>CA-2017-138688</td>\n",
              "      <td>12/06/2017</td>\n",
              "      <td>16/06/2017</td>\n",
              "      <td>Second Class</td>\n",
              "      <td>DV-13045</td>\n",
              "      <td>Darrin Van Huff</td>\n",
              "      <td>Corporate</td>\n",
              "      <td>United States</td>\n",
              "      <td>Los Angeles</td>\n",
              "      <td>California</td>\n",
              "      <td>90036.0</td>\n",
              "      <td>West</td>\n",
              "      <td>OFF-LA-10000240</td>\n",
              "      <td>Office Supplies</td>\n",
              "      <td>Labels</td>\n",
              "      <td>Self-Adhesive Address Labels for Typewriters b...</td>\n",
              "      <td>14.6200</td>\n",
              "    </tr>\n",
              "    <tr>\n",
              "      <th>3</th>\n",
              "      <td>4</td>\n",
              "      <td>US-2016-108966</td>\n",
              "      <td>11/10/2016</td>\n",
              "      <td>18/10/2016</td>\n",
              "      <td>Standard Class</td>\n",
              "      <td>SO-20335</td>\n",
              "      <td>Sean O'Donnell</td>\n",
              "      <td>Consumer</td>\n",
              "      <td>United States</td>\n",
              "      <td>Fort Lauderdale</td>\n",
              "      <td>Florida</td>\n",
              "      <td>33311.0</td>\n",
              "      <td>South</td>\n",
              "      <td>FUR-TA-10000577</td>\n",
              "      <td>Furniture</td>\n",
              "      <td>Tables</td>\n",
              "      <td>Bretford CR4500 Series Slim Rectangular Table</td>\n",
              "      <td>957.5775</td>\n",
              "    </tr>\n",
              "    <tr>\n",
              "      <th>4</th>\n",
              "      <td>5</td>\n",
              "      <td>US-2016-108966</td>\n",
              "      <td>11/10/2016</td>\n",
              "      <td>18/10/2016</td>\n",
              "      <td>Standard Class</td>\n",
              "      <td>SO-20335</td>\n",
              "      <td>Sean O'Donnell</td>\n",
              "      <td>Consumer</td>\n",
              "      <td>United States</td>\n",
              "      <td>Fort Lauderdale</td>\n",
              "      <td>Florida</td>\n",
              "      <td>33311.0</td>\n",
              "      <td>South</td>\n",
              "      <td>OFF-ST-10000760</td>\n",
              "      <td>Office Supplies</td>\n",
              "      <td>Storage</td>\n",
              "      <td>Eldon Fold 'N Roll Cart System</td>\n",
              "      <td>22.3680</td>\n",
              "    </tr>\n",
              "  </tbody>\n",
              "</table>\n",
              "</div>"
            ],
            "text/plain": [
              "   Row ID  ...     Sales\n",
              "0       1  ...  261.9600\n",
              "1       2  ...  731.9400\n",
              "2       3  ...   14.6200\n",
              "3       4  ...  957.5775\n",
              "4       5  ...   22.3680\n",
              "\n",
              "[5 rows x 18 columns]"
            ]
          },
          "metadata": {
            "tags": []
          },
          "execution_count": 2
        }
      ]
    },
    {
      "cell_type": "code",
      "metadata": {
        "id": "i2d7VKx59ybj",
        "colab_type": "code",
        "colab": {}
      },
      "source": [
        "df.columns = df.columns.str.replace(' ', '')\n",
        "df.columns = df.columns.str.replace('-', '')"
      ],
      "execution_count": 3,
      "outputs": []
    },
    {
      "cell_type": "code",
      "metadata": {
        "id": "pCg3IvgWAOFB",
        "colab_type": "code",
        "colab": {}
      },
      "source": [
        "df.set_index('OrderID', inplace=True)"
      ],
      "execution_count": 4,
      "outputs": []
    },
    {
      "cell_type": "code",
      "metadata": {
        "id": "_wl82wX_BV3T",
        "colab_type": "code",
        "colab": {}
      },
      "source": [
        "del df['RowID']"
      ],
      "execution_count": 5,
      "outputs": []
    },
    {
      "cell_type": "code",
      "metadata": {
        "id": "Ml2iWoxwD9q8",
        "colab_type": "code",
        "colab": {}
      },
      "source": [
        "df = df.drop_duplicates()"
      ],
      "execution_count": 6,
      "outputs": []
    },
    {
      "cell_type": "code",
      "metadata": {
        "id": "Hk1xFhB5ATtM",
        "colab_type": "code",
        "colab": {
          "base_uri": "https://localhost:8080/",
          "height": 510
        },
        "outputId": "8a724295-88cd-4942-d5f9-95f85bffa818"
      },
      "source": [
        "df.head()"
      ],
      "execution_count": 7,
      "outputs": [
        {
          "output_type": "execute_result",
          "data": {
            "text/html": [
              "<div>\n",
              "<style scoped>\n",
              "    .dataframe tbody tr th:only-of-type {\n",
              "        vertical-align: middle;\n",
              "    }\n",
              "\n",
              "    .dataframe tbody tr th {\n",
              "        vertical-align: top;\n",
              "    }\n",
              "\n",
              "    .dataframe thead th {\n",
              "        text-align: right;\n",
              "    }\n",
              "</style>\n",
              "<table border=\"1\" class=\"dataframe\">\n",
              "  <thead>\n",
              "    <tr style=\"text-align: right;\">\n",
              "      <th></th>\n",
              "      <th>OrderDate</th>\n",
              "      <th>ShipDate</th>\n",
              "      <th>ShipMode</th>\n",
              "      <th>CustomerID</th>\n",
              "      <th>CustomerName</th>\n",
              "      <th>Segment</th>\n",
              "      <th>Country</th>\n",
              "      <th>City</th>\n",
              "      <th>State</th>\n",
              "      <th>PostalCode</th>\n",
              "      <th>Region</th>\n",
              "      <th>ProductID</th>\n",
              "      <th>Category</th>\n",
              "      <th>SubCategory</th>\n",
              "      <th>ProductName</th>\n",
              "      <th>Sales</th>\n",
              "    </tr>\n",
              "    <tr>\n",
              "      <th>OrderID</th>\n",
              "      <th></th>\n",
              "      <th></th>\n",
              "      <th></th>\n",
              "      <th></th>\n",
              "      <th></th>\n",
              "      <th></th>\n",
              "      <th></th>\n",
              "      <th></th>\n",
              "      <th></th>\n",
              "      <th></th>\n",
              "      <th></th>\n",
              "      <th></th>\n",
              "      <th></th>\n",
              "      <th></th>\n",
              "      <th></th>\n",
              "      <th></th>\n",
              "    </tr>\n",
              "  </thead>\n",
              "  <tbody>\n",
              "    <tr>\n",
              "      <th>CA-2017-152156</th>\n",
              "      <td>08/11/2017</td>\n",
              "      <td>11/11/2017</td>\n",
              "      <td>Second Class</td>\n",
              "      <td>CG-12520</td>\n",
              "      <td>Claire Gute</td>\n",
              "      <td>Consumer</td>\n",
              "      <td>United States</td>\n",
              "      <td>Henderson</td>\n",
              "      <td>Kentucky</td>\n",
              "      <td>42420.0</td>\n",
              "      <td>South</td>\n",
              "      <td>FUR-BO-10001798</td>\n",
              "      <td>Furniture</td>\n",
              "      <td>Bookcases</td>\n",
              "      <td>Bush Somerset Collection Bookcase</td>\n",
              "      <td>261.9600</td>\n",
              "    </tr>\n",
              "    <tr>\n",
              "      <th>CA-2017-152156</th>\n",
              "      <td>08/11/2017</td>\n",
              "      <td>11/11/2017</td>\n",
              "      <td>Second Class</td>\n",
              "      <td>CG-12520</td>\n",
              "      <td>Claire Gute</td>\n",
              "      <td>Consumer</td>\n",
              "      <td>United States</td>\n",
              "      <td>Henderson</td>\n",
              "      <td>Kentucky</td>\n",
              "      <td>42420.0</td>\n",
              "      <td>South</td>\n",
              "      <td>FUR-CH-10000454</td>\n",
              "      <td>Furniture</td>\n",
              "      <td>Chairs</td>\n",
              "      <td>Hon Deluxe Fabric Upholstered Stacking Chairs,...</td>\n",
              "      <td>731.9400</td>\n",
              "    </tr>\n",
              "    <tr>\n",
              "      <th>CA-2017-138688</th>\n",
              "      <td>12/06/2017</td>\n",
              "      <td>16/06/2017</td>\n",
              "      <td>Second Class</td>\n",
              "      <td>DV-13045</td>\n",
              "      <td>Darrin Van Huff</td>\n",
              "      <td>Corporate</td>\n",
              "      <td>United States</td>\n",
              "      <td>Los Angeles</td>\n",
              "      <td>California</td>\n",
              "      <td>90036.0</td>\n",
              "      <td>West</td>\n",
              "      <td>OFF-LA-10000240</td>\n",
              "      <td>Office Supplies</td>\n",
              "      <td>Labels</td>\n",
              "      <td>Self-Adhesive Address Labels for Typewriters b...</td>\n",
              "      <td>14.6200</td>\n",
              "    </tr>\n",
              "    <tr>\n",
              "      <th>US-2016-108966</th>\n",
              "      <td>11/10/2016</td>\n",
              "      <td>18/10/2016</td>\n",
              "      <td>Standard Class</td>\n",
              "      <td>SO-20335</td>\n",
              "      <td>Sean O'Donnell</td>\n",
              "      <td>Consumer</td>\n",
              "      <td>United States</td>\n",
              "      <td>Fort Lauderdale</td>\n",
              "      <td>Florida</td>\n",
              "      <td>33311.0</td>\n",
              "      <td>South</td>\n",
              "      <td>FUR-TA-10000577</td>\n",
              "      <td>Furniture</td>\n",
              "      <td>Tables</td>\n",
              "      <td>Bretford CR4500 Series Slim Rectangular Table</td>\n",
              "      <td>957.5775</td>\n",
              "    </tr>\n",
              "    <tr>\n",
              "      <th>US-2016-108966</th>\n",
              "      <td>11/10/2016</td>\n",
              "      <td>18/10/2016</td>\n",
              "      <td>Standard Class</td>\n",
              "      <td>SO-20335</td>\n",
              "      <td>Sean O'Donnell</td>\n",
              "      <td>Consumer</td>\n",
              "      <td>United States</td>\n",
              "      <td>Fort Lauderdale</td>\n",
              "      <td>Florida</td>\n",
              "      <td>33311.0</td>\n",
              "      <td>South</td>\n",
              "      <td>OFF-ST-10000760</td>\n",
              "      <td>Office Supplies</td>\n",
              "      <td>Storage</td>\n",
              "      <td>Eldon Fold 'N Roll Cart System</td>\n",
              "      <td>22.3680</td>\n",
              "    </tr>\n",
              "  </tbody>\n",
              "</table>\n",
              "</div>"
            ],
            "text/plain": [
              "                 OrderDate  ...     Sales\n",
              "OrderID                     ...          \n",
              "CA-2017-152156  08/11/2017  ...  261.9600\n",
              "CA-2017-152156  08/11/2017  ...  731.9400\n",
              "CA-2017-138688  12/06/2017  ...   14.6200\n",
              "US-2016-108966  11/10/2016  ...  957.5775\n",
              "US-2016-108966  11/10/2016  ...   22.3680\n",
              "\n",
              "[5 rows x 16 columns]"
            ]
          },
          "metadata": {
            "tags": []
          },
          "execution_count": 7
        }
      ]
    },
    {
      "cell_type": "code",
      "metadata": {
        "id": "watVWsDFzOv9",
        "colab_type": "code",
        "colab": {
          "base_uri": "https://localhost:8080/",
          "height": 403
        },
        "outputId": "3fbfc1f2-fab6-4873-ba72-c12097214828"
      },
      "source": [
        "df.info()"
      ],
      "execution_count": 8,
      "outputs": [
        {
          "output_type": "stream",
          "text": [
            "<class 'pandas.core.frame.DataFrame'>\n",
            "Index: 9799 entries, CA-2017-152156 to CA-2016-128608\n",
            "Data columns (total 16 columns):\n",
            " #   Column        Non-Null Count  Dtype  \n",
            "---  ------        --------------  -----  \n",
            " 0   OrderDate     9799 non-null   object \n",
            " 1   ShipDate      9799 non-null   object \n",
            " 2   ShipMode      9799 non-null   object \n",
            " 3   CustomerID    9799 non-null   object \n",
            " 4   CustomerName  9799 non-null   object \n",
            " 5   Segment       9799 non-null   object \n",
            " 6   Country       9799 non-null   object \n",
            " 7   City          9799 non-null   object \n",
            " 8   State         9799 non-null   object \n",
            " 9   PostalCode    9788 non-null   float64\n",
            " 10  Region        9799 non-null   object \n",
            " 11  ProductID     9799 non-null   object \n",
            " 12  Category      9799 non-null   object \n",
            " 13  SubCategory   9799 non-null   object \n",
            " 14  ProductName   9799 non-null   object \n",
            " 15  Sales         9799 non-null   float64\n",
            "dtypes: float64(2), object(14)\n",
            "memory usage: 1.3+ MB\n"
          ],
          "name": "stdout"
        }
      ]
    },
    {
      "cell_type": "code",
      "metadata": {
        "id": "9tgcq0myzQXr",
        "colab_type": "code",
        "colab": {
          "base_uri": "https://localhost:8080/",
          "height": 772
        },
        "outputId": "b27b9d26-1a8a-4669-bd38-5a8b7e2d71ac"
      },
      "source": [
        "df[df['PostalCode'].isnull()==True]"
      ],
      "execution_count": 9,
      "outputs": [
        {
          "output_type": "execute_result",
          "data": {
            "text/html": [
              "<div>\n",
              "<style scoped>\n",
              "    .dataframe tbody tr th:only-of-type {\n",
              "        vertical-align: middle;\n",
              "    }\n",
              "\n",
              "    .dataframe tbody tr th {\n",
              "        vertical-align: top;\n",
              "    }\n",
              "\n",
              "    .dataframe thead th {\n",
              "        text-align: right;\n",
              "    }\n",
              "</style>\n",
              "<table border=\"1\" class=\"dataframe\">\n",
              "  <thead>\n",
              "    <tr style=\"text-align: right;\">\n",
              "      <th></th>\n",
              "      <th>OrderDate</th>\n",
              "      <th>ShipDate</th>\n",
              "      <th>ShipMode</th>\n",
              "      <th>CustomerID</th>\n",
              "      <th>CustomerName</th>\n",
              "      <th>Segment</th>\n",
              "      <th>Country</th>\n",
              "      <th>City</th>\n",
              "      <th>State</th>\n",
              "      <th>PostalCode</th>\n",
              "      <th>Region</th>\n",
              "      <th>ProductID</th>\n",
              "      <th>Category</th>\n",
              "      <th>SubCategory</th>\n",
              "      <th>ProductName</th>\n",
              "      <th>Sales</th>\n",
              "    </tr>\n",
              "    <tr>\n",
              "      <th>OrderID</th>\n",
              "      <th></th>\n",
              "      <th></th>\n",
              "      <th></th>\n",
              "      <th></th>\n",
              "      <th></th>\n",
              "      <th></th>\n",
              "      <th></th>\n",
              "      <th></th>\n",
              "      <th></th>\n",
              "      <th></th>\n",
              "      <th></th>\n",
              "      <th></th>\n",
              "      <th></th>\n",
              "      <th></th>\n",
              "      <th></th>\n",
              "      <th></th>\n",
              "    </tr>\n",
              "  </thead>\n",
              "  <tbody>\n",
              "    <tr>\n",
              "      <th>CA-2018-104066</th>\n",
              "      <td>05/12/2018</td>\n",
              "      <td>10/12/2018</td>\n",
              "      <td>Standard Class</td>\n",
              "      <td>QJ-19255</td>\n",
              "      <td>Quincy Jones</td>\n",
              "      <td>Corporate</td>\n",
              "      <td>United States</td>\n",
              "      <td>Burlington</td>\n",
              "      <td>Vermont</td>\n",
              "      <td>NaN</td>\n",
              "      <td>East</td>\n",
              "      <td>TEC-AC-10001013</td>\n",
              "      <td>Technology</td>\n",
              "      <td>Accessories</td>\n",
              "      <td>Logitech ClearChat Comfort/USB Headset H390</td>\n",
              "      <td>205.03</td>\n",
              "    </tr>\n",
              "    <tr>\n",
              "      <th>CA-2016-162887</th>\n",
              "      <td>07/11/2016</td>\n",
              "      <td>09/11/2016</td>\n",
              "      <td>Second Class</td>\n",
              "      <td>SV-20785</td>\n",
              "      <td>Stewart Visinsky</td>\n",
              "      <td>Consumer</td>\n",
              "      <td>United States</td>\n",
              "      <td>Burlington</td>\n",
              "      <td>Vermont</td>\n",
              "      <td>NaN</td>\n",
              "      <td>East</td>\n",
              "      <td>FUR-CH-10000595</td>\n",
              "      <td>Furniture</td>\n",
              "      <td>Chairs</td>\n",
              "      <td>Safco Contoured Stacking Chairs</td>\n",
              "      <td>715.20</td>\n",
              "    </tr>\n",
              "    <tr>\n",
              "      <th>US-2017-150140</th>\n",
              "      <td>06/04/2017</td>\n",
              "      <td>10/04/2017</td>\n",
              "      <td>Standard Class</td>\n",
              "      <td>VM-21685</td>\n",
              "      <td>Valerie Mitchum</td>\n",
              "      <td>Home Office</td>\n",
              "      <td>United States</td>\n",
              "      <td>Burlington</td>\n",
              "      <td>Vermont</td>\n",
              "      <td>NaN</td>\n",
              "      <td>East</td>\n",
              "      <td>TEC-PH-10002555</td>\n",
              "      <td>Technology</td>\n",
              "      <td>Phones</td>\n",
              "      <td>Nortel Meridian M5316 Digital phone</td>\n",
              "      <td>1294.75</td>\n",
              "    </tr>\n",
              "    <tr>\n",
              "      <th>US-2017-165505</th>\n",
              "      <td>23/01/2017</td>\n",
              "      <td>27/01/2017</td>\n",
              "      <td>Standard Class</td>\n",
              "      <td>CB-12535</td>\n",
              "      <td>Claudia Bergmann</td>\n",
              "      <td>Corporate</td>\n",
              "      <td>United States</td>\n",
              "      <td>Burlington</td>\n",
              "      <td>Vermont</td>\n",
              "      <td>NaN</td>\n",
              "      <td>East</td>\n",
              "      <td>TEC-AC-10002926</td>\n",
              "      <td>Technology</td>\n",
              "      <td>Accessories</td>\n",
              "      <td>Logitech Wireless Marathon Mouse M705</td>\n",
              "      <td>99.98</td>\n",
              "    </tr>\n",
              "    <tr>\n",
              "      <th>US-2017-165505</th>\n",
              "      <td>23/01/2017</td>\n",
              "      <td>27/01/2017</td>\n",
              "      <td>Standard Class</td>\n",
              "      <td>CB-12535</td>\n",
              "      <td>Claudia Bergmann</td>\n",
              "      <td>Corporate</td>\n",
              "      <td>United States</td>\n",
              "      <td>Burlington</td>\n",
              "      <td>Vermont</td>\n",
              "      <td>NaN</td>\n",
              "      <td>East</td>\n",
              "      <td>OFF-AR-10003477</td>\n",
              "      <td>Office Supplies</td>\n",
              "      <td>Art</td>\n",
              "      <td>4009 Highlighters</td>\n",
              "      <td>8.04</td>\n",
              "    </tr>\n",
              "    <tr>\n",
              "      <th>US-2017-165505</th>\n",
              "      <td>23/01/2017</td>\n",
              "      <td>27/01/2017</td>\n",
              "      <td>Standard Class</td>\n",
              "      <td>CB-12535</td>\n",
              "      <td>Claudia Bergmann</td>\n",
              "      <td>Corporate</td>\n",
              "      <td>United States</td>\n",
              "      <td>Burlington</td>\n",
              "      <td>Vermont</td>\n",
              "      <td>NaN</td>\n",
              "      <td>East</td>\n",
              "      <td>OFF-ST-10001526</td>\n",
              "      <td>Office Supplies</td>\n",
              "      <td>Storage</td>\n",
              "      <td>Iceberg Mobile Mega Data/Printer Cart</td>\n",
              "      <td>1564.29</td>\n",
              "    </tr>\n",
              "    <tr>\n",
              "      <th>US-2018-127292</th>\n",
              "      <td>19/01/2018</td>\n",
              "      <td>23/01/2018</td>\n",
              "      <td>Standard Class</td>\n",
              "      <td>RM-19375</td>\n",
              "      <td>Raymond Messe</td>\n",
              "      <td>Consumer</td>\n",
              "      <td>United States</td>\n",
              "      <td>Burlington</td>\n",
              "      <td>Vermont</td>\n",
              "      <td>NaN</td>\n",
              "      <td>East</td>\n",
              "      <td>OFF-PA-10000157</td>\n",
              "      <td>Office Supplies</td>\n",
              "      <td>Paper</td>\n",
              "      <td>Xerox 191</td>\n",
              "      <td>79.92</td>\n",
              "    </tr>\n",
              "    <tr>\n",
              "      <th>US-2018-127292</th>\n",
              "      <td>19/01/2018</td>\n",
              "      <td>23/01/2018</td>\n",
              "      <td>Standard Class</td>\n",
              "      <td>RM-19375</td>\n",
              "      <td>Raymond Messe</td>\n",
              "      <td>Consumer</td>\n",
              "      <td>United States</td>\n",
              "      <td>Burlington</td>\n",
              "      <td>Vermont</td>\n",
              "      <td>NaN</td>\n",
              "      <td>East</td>\n",
              "      <td>OFF-PA-10001970</td>\n",
              "      <td>Office Supplies</td>\n",
              "      <td>Paper</td>\n",
              "      <td>Xerox 1881</td>\n",
              "      <td>12.28</td>\n",
              "    </tr>\n",
              "    <tr>\n",
              "      <th>US-2018-127292</th>\n",
              "      <td>19/01/2018</td>\n",
              "      <td>23/01/2018</td>\n",
              "      <td>Standard Class</td>\n",
              "      <td>RM-19375</td>\n",
              "      <td>Raymond Messe</td>\n",
              "      <td>Consumer</td>\n",
              "      <td>United States</td>\n",
              "      <td>Burlington</td>\n",
              "      <td>Vermont</td>\n",
              "      <td>NaN</td>\n",
              "      <td>East</td>\n",
              "      <td>OFF-AP-10000828</td>\n",
              "      <td>Office Supplies</td>\n",
              "      <td>Appliances</td>\n",
              "      <td>Avanti 4.4 Cu. Ft. Refrigerator</td>\n",
              "      <td>542.94</td>\n",
              "    </tr>\n",
              "    <tr>\n",
              "      <th>US-2018-127292</th>\n",
              "      <td>19/01/2018</td>\n",
              "      <td>23/01/2018</td>\n",
              "      <td>Standard Class</td>\n",
              "      <td>RM-19375</td>\n",
              "      <td>Raymond Messe</td>\n",
              "      <td>Consumer</td>\n",
              "      <td>United States</td>\n",
              "      <td>Burlington</td>\n",
              "      <td>Vermont</td>\n",
              "      <td>NaN</td>\n",
              "      <td>East</td>\n",
              "      <td>OFF-EN-10001509</td>\n",
              "      <td>Office Supplies</td>\n",
              "      <td>Envelopes</td>\n",
              "      <td>Poly String Tie Envelopes</td>\n",
              "      <td>2.04</td>\n",
              "    </tr>\n",
              "    <tr>\n",
              "      <th>CA-2016-117086</th>\n",
              "      <td>08/11/2016</td>\n",
              "      <td>12/11/2016</td>\n",
              "      <td>Standard Class</td>\n",
              "      <td>QJ-19255</td>\n",
              "      <td>Quincy Jones</td>\n",
              "      <td>Corporate</td>\n",
              "      <td>United States</td>\n",
              "      <td>Burlington</td>\n",
              "      <td>Vermont</td>\n",
              "      <td>NaN</td>\n",
              "      <td>East</td>\n",
              "      <td>FUR-BO-10004834</td>\n",
              "      <td>Furniture</td>\n",
              "      <td>Bookcases</td>\n",
              "      <td>Riverside Palais Royal Lawyers Bookcase, Royal...</td>\n",
              "      <td>4404.90</td>\n",
              "    </tr>\n",
              "  </tbody>\n",
              "</table>\n",
              "</div>"
            ],
            "text/plain": [
              "                 OrderDate  ...    Sales\n",
              "OrderID                     ...         \n",
              "CA-2018-104066  05/12/2018  ...   205.03\n",
              "CA-2016-162887  07/11/2016  ...   715.20\n",
              "US-2017-150140  06/04/2017  ...  1294.75\n",
              "US-2017-165505  23/01/2017  ...    99.98\n",
              "US-2017-165505  23/01/2017  ...     8.04\n",
              "US-2017-165505  23/01/2017  ...  1564.29\n",
              "US-2018-127292  19/01/2018  ...    79.92\n",
              "US-2018-127292  19/01/2018  ...    12.28\n",
              "US-2018-127292  19/01/2018  ...   542.94\n",
              "US-2018-127292  19/01/2018  ...     2.04\n",
              "CA-2016-117086  08/11/2016  ...  4404.90\n",
              "\n",
              "[11 rows x 16 columns]"
            ]
          },
          "metadata": {
            "tags": []
          },
          "execution_count": 9
        }
      ]
    },
    {
      "cell_type": "code",
      "metadata": {
        "id": "vua8hi9Z5rsu",
        "colab_type": "code",
        "colab": {}
      },
      "source": [
        "df['PostalCode'] = df['PostalCode'].astype('str')"
      ],
      "execution_count": 10,
      "outputs": []
    },
    {
      "cell_type": "code",
      "metadata": {
        "id": "qdVz4Ob70kUx",
        "colab_type": "code",
        "colab": {}
      },
      "source": [
        "df['PostalCode'] = df['PostalCode'].fillna('05401.0')"
      ],
      "execution_count": 11,
      "outputs": []
    },
    {
      "cell_type": "code",
      "metadata": {
        "id": "AwB1BQaF1pVG",
        "colab_type": "code",
        "colab": {
          "base_uri": "https://localhost:8080/",
          "height": 510
        },
        "outputId": "7a9217e8-d3d8-4f9e-e01e-d3b6ac72c3de"
      },
      "source": [
        "df['PostalCode'] = [item[:-2] for item in df['PostalCode']]\n",
        "df.head()"
      ],
      "execution_count": 12,
      "outputs": [
        {
          "output_type": "execute_result",
          "data": {
            "text/html": [
              "<div>\n",
              "<style scoped>\n",
              "    .dataframe tbody tr th:only-of-type {\n",
              "        vertical-align: middle;\n",
              "    }\n",
              "\n",
              "    .dataframe tbody tr th {\n",
              "        vertical-align: top;\n",
              "    }\n",
              "\n",
              "    .dataframe thead th {\n",
              "        text-align: right;\n",
              "    }\n",
              "</style>\n",
              "<table border=\"1\" class=\"dataframe\">\n",
              "  <thead>\n",
              "    <tr style=\"text-align: right;\">\n",
              "      <th></th>\n",
              "      <th>OrderDate</th>\n",
              "      <th>ShipDate</th>\n",
              "      <th>ShipMode</th>\n",
              "      <th>CustomerID</th>\n",
              "      <th>CustomerName</th>\n",
              "      <th>Segment</th>\n",
              "      <th>Country</th>\n",
              "      <th>City</th>\n",
              "      <th>State</th>\n",
              "      <th>PostalCode</th>\n",
              "      <th>Region</th>\n",
              "      <th>ProductID</th>\n",
              "      <th>Category</th>\n",
              "      <th>SubCategory</th>\n",
              "      <th>ProductName</th>\n",
              "      <th>Sales</th>\n",
              "    </tr>\n",
              "    <tr>\n",
              "      <th>OrderID</th>\n",
              "      <th></th>\n",
              "      <th></th>\n",
              "      <th></th>\n",
              "      <th></th>\n",
              "      <th></th>\n",
              "      <th></th>\n",
              "      <th></th>\n",
              "      <th></th>\n",
              "      <th></th>\n",
              "      <th></th>\n",
              "      <th></th>\n",
              "      <th></th>\n",
              "      <th></th>\n",
              "      <th></th>\n",
              "      <th></th>\n",
              "      <th></th>\n",
              "    </tr>\n",
              "  </thead>\n",
              "  <tbody>\n",
              "    <tr>\n",
              "      <th>CA-2017-152156</th>\n",
              "      <td>08/11/2017</td>\n",
              "      <td>11/11/2017</td>\n",
              "      <td>Second Class</td>\n",
              "      <td>CG-12520</td>\n",
              "      <td>Claire Gute</td>\n",
              "      <td>Consumer</td>\n",
              "      <td>United States</td>\n",
              "      <td>Henderson</td>\n",
              "      <td>Kentucky</td>\n",
              "      <td>42420</td>\n",
              "      <td>South</td>\n",
              "      <td>FUR-BO-10001798</td>\n",
              "      <td>Furniture</td>\n",
              "      <td>Bookcases</td>\n",
              "      <td>Bush Somerset Collection Bookcase</td>\n",
              "      <td>261.9600</td>\n",
              "    </tr>\n",
              "    <tr>\n",
              "      <th>CA-2017-152156</th>\n",
              "      <td>08/11/2017</td>\n",
              "      <td>11/11/2017</td>\n",
              "      <td>Second Class</td>\n",
              "      <td>CG-12520</td>\n",
              "      <td>Claire Gute</td>\n",
              "      <td>Consumer</td>\n",
              "      <td>United States</td>\n",
              "      <td>Henderson</td>\n",
              "      <td>Kentucky</td>\n",
              "      <td>42420</td>\n",
              "      <td>South</td>\n",
              "      <td>FUR-CH-10000454</td>\n",
              "      <td>Furniture</td>\n",
              "      <td>Chairs</td>\n",
              "      <td>Hon Deluxe Fabric Upholstered Stacking Chairs,...</td>\n",
              "      <td>731.9400</td>\n",
              "    </tr>\n",
              "    <tr>\n",
              "      <th>CA-2017-138688</th>\n",
              "      <td>12/06/2017</td>\n",
              "      <td>16/06/2017</td>\n",
              "      <td>Second Class</td>\n",
              "      <td>DV-13045</td>\n",
              "      <td>Darrin Van Huff</td>\n",
              "      <td>Corporate</td>\n",
              "      <td>United States</td>\n",
              "      <td>Los Angeles</td>\n",
              "      <td>California</td>\n",
              "      <td>90036</td>\n",
              "      <td>West</td>\n",
              "      <td>OFF-LA-10000240</td>\n",
              "      <td>Office Supplies</td>\n",
              "      <td>Labels</td>\n",
              "      <td>Self-Adhesive Address Labels for Typewriters b...</td>\n",
              "      <td>14.6200</td>\n",
              "    </tr>\n",
              "    <tr>\n",
              "      <th>US-2016-108966</th>\n",
              "      <td>11/10/2016</td>\n",
              "      <td>18/10/2016</td>\n",
              "      <td>Standard Class</td>\n",
              "      <td>SO-20335</td>\n",
              "      <td>Sean O'Donnell</td>\n",
              "      <td>Consumer</td>\n",
              "      <td>United States</td>\n",
              "      <td>Fort Lauderdale</td>\n",
              "      <td>Florida</td>\n",
              "      <td>33311</td>\n",
              "      <td>South</td>\n",
              "      <td>FUR-TA-10000577</td>\n",
              "      <td>Furniture</td>\n",
              "      <td>Tables</td>\n",
              "      <td>Bretford CR4500 Series Slim Rectangular Table</td>\n",
              "      <td>957.5775</td>\n",
              "    </tr>\n",
              "    <tr>\n",
              "      <th>US-2016-108966</th>\n",
              "      <td>11/10/2016</td>\n",
              "      <td>18/10/2016</td>\n",
              "      <td>Standard Class</td>\n",
              "      <td>SO-20335</td>\n",
              "      <td>Sean O'Donnell</td>\n",
              "      <td>Consumer</td>\n",
              "      <td>United States</td>\n",
              "      <td>Fort Lauderdale</td>\n",
              "      <td>Florida</td>\n",
              "      <td>33311</td>\n",
              "      <td>South</td>\n",
              "      <td>OFF-ST-10000760</td>\n",
              "      <td>Office Supplies</td>\n",
              "      <td>Storage</td>\n",
              "      <td>Eldon Fold 'N Roll Cart System</td>\n",
              "      <td>22.3680</td>\n",
              "    </tr>\n",
              "  </tbody>\n",
              "</table>\n",
              "</div>"
            ],
            "text/plain": [
              "                 OrderDate  ...     Sales\n",
              "OrderID                     ...          \n",
              "CA-2017-152156  08/11/2017  ...  261.9600\n",
              "CA-2017-152156  08/11/2017  ...  731.9400\n",
              "CA-2017-138688  12/06/2017  ...   14.6200\n",
              "US-2016-108966  11/10/2016  ...  957.5775\n",
              "US-2016-108966  11/10/2016  ...   22.3680\n",
              "\n",
              "[5 rows x 16 columns]"
            ]
          },
          "metadata": {
            "tags": []
          },
          "execution_count": 12
        }
      ]
    },
    {
      "cell_type": "code",
      "metadata": {
        "id": "o2IjWlwi9P_o",
        "colab_type": "code",
        "colab": {
          "base_uri": "https://localhost:8080/",
          "height": 403
        },
        "outputId": "4102b520-8ca6-45aa-8fff-f9a37721f29f"
      },
      "source": [
        "df.info()"
      ],
      "execution_count": 13,
      "outputs": [
        {
          "output_type": "stream",
          "text": [
            "<class 'pandas.core.frame.DataFrame'>\n",
            "Index: 9799 entries, CA-2017-152156 to CA-2016-128608\n",
            "Data columns (total 16 columns):\n",
            " #   Column        Non-Null Count  Dtype  \n",
            "---  ------        --------------  -----  \n",
            " 0   OrderDate     9799 non-null   object \n",
            " 1   ShipDate      9799 non-null   object \n",
            " 2   ShipMode      9799 non-null   object \n",
            " 3   CustomerID    9799 non-null   object \n",
            " 4   CustomerName  9799 non-null   object \n",
            " 5   Segment       9799 non-null   object \n",
            " 6   Country       9799 non-null   object \n",
            " 7   City          9799 non-null   object \n",
            " 8   State         9799 non-null   object \n",
            " 9   PostalCode    9799 non-null   object \n",
            " 10  Region        9799 non-null   object \n",
            " 11  ProductID     9799 non-null   object \n",
            " 12  Category      9799 non-null   object \n",
            " 13  SubCategory   9799 non-null   object \n",
            " 14  ProductName   9799 non-null   object \n",
            " 15  Sales         9799 non-null   float64\n",
            "dtypes: float64(1), object(15)\n",
            "memory usage: 1.3+ MB\n"
          ],
          "name": "stdout"
        }
      ]
    },
    {
      "cell_type": "code",
      "metadata": {
        "id": "aryPHoHQ7GrZ",
        "colab_type": "code",
        "colab": {
          "base_uri": "https://localhost:8080/",
          "height": 168
        },
        "outputId": "222dc883-873a-4c01-8bd9-e4d52bae6339"
      },
      "source": [
        "df['Sales'].describe()"
      ],
      "execution_count": 14,
      "outputs": [
        {
          "output_type": "execute_result",
          "data": {
            "text/plain": [
              "count     9799.000000\n",
              "mean       230.763895\n",
              "std        626.683644\n",
              "min          0.444000\n",
              "25%         17.248000\n",
              "50%         54.480000\n",
              "75%        210.572000\n",
              "max      22638.480000\n",
              "Name: Sales, dtype: float64"
            ]
          },
          "metadata": {
            "tags": []
          },
          "execution_count": 14
        }
      ]
    },
    {
      "cell_type": "code",
      "metadata": {
        "id": "sEbNziNLCvh0",
        "colab_type": "code",
        "colab": {}
      },
      "source": [
        "df['OrderDate'] = df['OrderDate'].astype('datetime64[ns]')\n",
        "df['ShipDate'] = df['ShipDate'].astype('datetime64[ns]')"
      ],
      "execution_count": 15,
      "outputs": []
    },
    {
      "cell_type": "code",
      "metadata": {
        "id": "HNXGu36yD58F",
        "colab_type": "code",
        "colab": {
          "base_uri": "https://localhost:8080/",
          "height": 477
        },
        "outputId": "ac037404-e6bf-406b-eee2-4c7bd3f25931"
      },
      "source": [
        "df.head()"
      ],
      "execution_count": 16,
      "outputs": [
        {
          "output_type": "execute_result",
          "data": {
            "text/html": [
              "<div>\n",
              "<style scoped>\n",
              "    .dataframe tbody tr th:only-of-type {\n",
              "        vertical-align: middle;\n",
              "    }\n",
              "\n",
              "    .dataframe tbody tr th {\n",
              "        vertical-align: top;\n",
              "    }\n",
              "\n",
              "    .dataframe thead th {\n",
              "        text-align: right;\n",
              "    }\n",
              "</style>\n",
              "<table border=\"1\" class=\"dataframe\">\n",
              "  <thead>\n",
              "    <tr style=\"text-align: right;\">\n",
              "      <th></th>\n",
              "      <th>OrderDate</th>\n",
              "      <th>ShipDate</th>\n",
              "      <th>ShipMode</th>\n",
              "      <th>CustomerID</th>\n",
              "      <th>CustomerName</th>\n",
              "      <th>Segment</th>\n",
              "      <th>Country</th>\n",
              "      <th>City</th>\n",
              "      <th>State</th>\n",
              "      <th>PostalCode</th>\n",
              "      <th>Region</th>\n",
              "      <th>ProductID</th>\n",
              "      <th>Category</th>\n",
              "      <th>SubCategory</th>\n",
              "      <th>ProductName</th>\n",
              "      <th>Sales</th>\n",
              "    </tr>\n",
              "    <tr>\n",
              "      <th>OrderID</th>\n",
              "      <th></th>\n",
              "      <th></th>\n",
              "      <th></th>\n",
              "      <th></th>\n",
              "      <th></th>\n",
              "      <th></th>\n",
              "      <th></th>\n",
              "      <th></th>\n",
              "      <th></th>\n",
              "      <th></th>\n",
              "      <th></th>\n",
              "      <th></th>\n",
              "      <th></th>\n",
              "      <th></th>\n",
              "      <th></th>\n",
              "      <th></th>\n",
              "    </tr>\n",
              "  </thead>\n",
              "  <tbody>\n",
              "    <tr>\n",
              "      <th>CA-2017-152156</th>\n",
              "      <td>2017-08-11</td>\n",
              "      <td>2017-11-11</td>\n",
              "      <td>Second Class</td>\n",
              "      <td>CG-12520</td>\n",
              "      <td>Claire Gute</td>\n",
              "      <td>Consumer</td>\n",
              "      <td>United States</td>\n",
              "      <td>Henderson</td>\n",
              "      <td>Kentucky</td>\n",
              "      <td>42420</td>\n",
              "      <td>South</td>\n",
              "      <td>FUR-BO-10001798</td>\n",
              "      <td>Furniture</td>\n",
              "      <td>Bookcases</td>\n",
              "      <td>Bush Somerset Collection Bookcase</td>\n",
              "      <td>261.9600</td>\n",
              "    </tr>\n",
              "    <tr>\n",
              "      <th>CA-2017-152156</th>\n",
              "      <td>2017-08-11</td>\n",
              "      <td>2017-11-11</td>\n",
              "      <td>Second Class</td>\n",
              "      <td>CG-12520</td>\n",
              "      <td>Claire Gute</td>\n",
              "      <td>Consumer</td>\n",
              "      <td>United States</td>\n",
              "      <td>Henderson</td>\n",
              "      <td>Kentucky</td>\n",
              "      <td>42420</td>\n",
              "      <td>South</td>\n",
              "      <td>FUR-CH-10000454</td>\n",
              "      <td>Furniture</td>\n",
              "      <td>Chairs</td>\n",
              "      <td>Hon Deluxe Fabric Upholstered Stacking Chairs,...</td>\n",
              "      <td>731.9400</td>\n",
              "    </tr>\n",
              "    <tr>\n",
              "      <th>CA-2017-138688</th>\n",
              "      <td>2017-12-06</td>\n",
              "      <td>2017-06-16</td>\n",
              "      <td>Second Class</td>\n",
              "      <td>DV-13045</td>\n",
              "      <td>Darrin Van Huff</td>\n",
              "      <td>Corporate</td>\n",
              "      <td>United States</td>\n",
              "      <td>Los Angeles</td>\n",
              "      <td>California</td>\n",
              "      <td>90036</td>\n",
              "      <td>West</td>\n",
              "      <td>OFF-LA-10000240</td>\n",
              "      <td>Office Supplies</td>\n",
              "      <td>Labels</td>\n",
              "      <td>Self-Adhesive Address Labels for Typewriters b...</td>\n",
              "      <td>14.6200</td>\n",
              "    </tr>\n",
              "    <tr>\n",
              "      <th>US-2016-108966</th>\n",
              "      <td>2016-11-10</td>\n",
              "      <td>2016-10-18</td>\n",
              "      <td>Standard Class</td>\n",
              "      <td>SO-20335</td>\n",
              "      <td>Sean O'Donnell</td>\n",
              "      <td>Consumer</td>\n",
              "      <td>United States</td>\n",
              "      <td>Fort Lauderdale</td>\n",
              "      <td>Florida</td>\n",
              "      <td>33311</td>\n",
              "      <td>South</td>\n",
              "      <td>FUR-TA-10000577</td>\n",
              "      <td>Furniture</td>\n",
              "      <td>Tables</td>\n",
              "      <td>Bretford CR4500 Series Slim Rectangular Table</td>\n",
              "      <td>957.5775</td>\n",
              "    </tr>\n",
              "    <tr>\n",
              "      <th>US-2016-108966</th>\n",
              "      <td>2016-11-10</td>\n",
              "      <td>2016-10-18</td>\n",
              "      <td>Standard Class</td>\n",
              "      <td>SO-20335</td>\n",
              "      <td>Sean O'Donnell</td>\n",
              "      <td>Consumer</td>\n",
              "      <td>United States</td>\n",
              "      <td>Fort Lauderdale</td>\n",
              "      <td>Florida</td>\n",
              "      <td>33311</td>\n",
              "      <td>South</td>\n",
              "      <td>OFF-ST-10000760</td>\n",
              "      <td>Office Supplies</td>\n",
              "      <td>Storage</td>\n",
              "      <td>Eldon Fold 'N Roll Cart System</td>\n",
              "      <td>22.3680</td>\n",
              "    </tr>\n",
              "  </tbody>\n",
              "</table>\n",
              "</div>"
            ],
            "text/plain": [
              "                OrderDate  ...     Sales\n",
              "OrderID                    ...          \n",
              "CA-2017-152156 2017-08-11  ...  261.9600\n",
              "CA-2017-152156 2017-08-11  ...  731.9400\n",
              "CA-2017-138688 2017-12-06  ...   14.6200\n",
              "US-2016-108966 2016-11-10  ...  957.5775\n",
              "US-2016-108966 2016-11-10  ...   22.3680\n",
              "\n",
              "[5 rows x 16 columns]"
            ]
          },
          "metadata": {
            "tags": []
          },
          "execution_count": 16
        }
      ]
    },
    {
      "cell_type": "code",
      "metadata": {
        "id": "R66avfUi1R4e",
        "colab_type": "code",
        "colab": {
          "base_uri": "https://localhost:8080/",
          "height": 403
        },
        "outputId": "a7f4078e-6930-4c3e-f245-0f0936fcc443"
      },
      "source": [
        "df.info()"
      ],
      "execution_count": 17,
      "outputs": [
        {
          "output_type": "stream",
          "text": [
            "<class 'pandas.core.frame.DataFrame'>\n",
            "Index: 9799 entries, CA-2017-152156 to CA-2016-128608\n",
            "Data columns (total 16 columns):\n",
            " #   Column        Non-Null Count  Dtype         \n",
            "---  ------        --------------  -----         \n",
            " 0   OrderDate     9799 non-null   datetime64[ns]\n",
            " 1   ShipDate      9799 non-null   datetime64[ns]\n",
            " 2   ShipMode      9799 non-null   object        \n",
            " 3   CustomerID    9799 non-null   object        \n",
            " 4   CustomerName  9799 non-null   object        \n",
            " 5   Segment       9799 non-null   object        \n",
            " 6   Country       9799 non-null   object        \n",
            " 7   City          9799 non-null   object        \n",
            " 8   State         9799 non-null   object        \n",
            " 9   PostalCode    9799 non-null   object        \n",
            " 10  Region        9799 non-null   object        \n",
            " 11  ProductID     9799 non-null   object        \n",
            " 12  Category      9799 non-null   object        \n",
            " 13  SubCategory   9799 non-null   object        \n",
            " 14  ProductName   9799 non-null   object        \n",
            " 15  Sales         9799 non-null   float64       \n",
            "dtypes: datetime64[ns](2), float64(1), object(13)\n",
            "memory usage: 1.3+ MB\n"
          ],
          "name": "stdout"
        }
      ]
    },
    {
      "cell_type": "code",
      "metadata": {
        "id": "o52tXd0E_Jsl",
        "colab_type": "code",
        "colab": {}
      },
      "source": [
        "df.to_csv('SalesCleaned.csv')"
      ],
      "execution_count": 18,
      "outputs": []
    },
    {
      "cell_type": "markdown",
      "metadata": {
        "id": "_OIf5j5Y9bFJ",
        "colab_type": "text"
      },
      "source": [
        "### EXPLORATORY DATA ANALYSIS"
      ]
    },
    {
      "cell_type": "code",
      "metadata": {
        "id": "xQ5ks7N8CM4-",
        "colab_type": "code",
        "colab": {
          "base_uri": "https://localhost:8080/",
          "height": 336
        },
        "outputId": "365b249a-ddb1-4b05-c14f-a0f53db7ba2e"
      },
      "source": [
        "df.groupby([\"Category\", \"SubCategory\"])[\"SubCategory\"].count()"
      ],
      "execution_count": 19,
      "outputs": [
        {
          "output_type": "execute_result",
          "data": {
            "text/plain": [
              "Category         SubCategory\n",
              "Furniture        Bookcases       226\n",
              "                 Chairs          606\n",
              "                 Furnishings     931\n",
              "                 Tables          314\n",
              "Office Supplies  Appliances      459\n",
              "                 Art             785\n",
              "                 Binders        1492\n",
              "                 Envelopes       248\n",
              "                 Fasteners       214\n",
              "                 Labels          357\n",
              "                 Paper          1338\n",
              "                 Storage         832\n",
              "                 Supplies        184\n",
              "Technology       Accessories     756\n",
              "                 Copiers          66\n",
              "                 Machines        115\n",
              "                 Phones          876\n",
              "Name: SubCategory, dtype: int64"
            ]
          },
          "metadata": {
            "tags": []
          },
          "execution_count": 19
        }
      ]
    },
    {
      "cell_type": "code",
      "metadata": {
        "id": "Ye46w17CO7zY",
        "colab_type": "code",
        "colab": {}
      },
      "source": [
        "dataProduct = df.groupby(['ProductID']).sum()\n",
        "dataProduct = dataProduct.loc[:,['Sales']]\n",
        "dataProduct = dataProduct.sort_values(['Sales'], ascending = False).reset_index()"
      ],
      "execution_count": 20,
      "outputs": []
    },
    {
      "cell_type": "code",
      "metadata": {
        "id": "8P53UlwgWQeq",
        "colab_type": "code",
        "colab": {
          "base_uri": "https://localhost:8080/",
          "height": 522
        },
        "outputId": "00b49e40-3e2a-43f3-84a6-c84b7f232b64"
      },
      "source": [
        "sns.set_palette(\"Set3\", 10)\n",
        "plt.figure(figsize=(20,8))\n",
        "sns.barplot(x='ProductID', y='Sales', data=dataProduct.head(10));\n",
        "plt.xlabel(\"ProductID\", size=14)\n",
        "plt.ylabel(\"Sales\", size=14)\n",
        "plt.title(\"Top 10 Products\", size=20);"
      ],
      "execution_count": 21,
      "outputs": [
        {
          "output_type": "display_data",
          "data": {
            "image/png": "[encoded data removed]",
            "text/plain": [
              "<Figure size 1440x576 with 1 Axes>"
            ]
          },
          "metadata": {
            "tags": [],
            "needs_background": "light"
          }
        }
      ]
    },
    {
      "cell_type": "code",
      "metadata": {
        "id": "3tI2D4k_WkGZ",
        "colab_type": "code",
        "colab": {
          "base_uri": "https://localhost:8080/",
          "height": 630
        },
        "outputId": "987d1c47-dd86-4f1d-ace1-bfe75ef4305f"
      },
      "source": [
        "plt.figure(figsize=(20,10))\n",
        "sns.barplot(x='ProductID',y='Sales', data=dataProduct.tail(10));\n",
        "plt.xlabel(\"ProductID\", size=14)\n",
        "plt.ylabel(\"Sales\", size=14)\n",
        "plt.title(\"Bottom 10 Products\", size=20);"
      ],
      "execution_count": 22,
      "outputs": [
        {
          "output_type": "display_data",
          "data": {
            "image/png": "[encoded data removed]",
            "text/plain": [
              "<Figure size 1440x720 with 1 Axes>"
            ]
          },
          "metadata": {
            "tags": [],
            "needs_background": "light"
          }
        }
      ]
    },
    {
      "cell_type": "code",
      "metadata": {
        "id": "wuL4di86Wr2J",
        "colab_type": "code",
        "colab": {}
      },
      "source": [
        "dataCustomers = df.groupby(['CustomerName']).sum()\n",
        "dataCustomers = dataCustomers.loc[:,['Sales']]\n",
        "dataCustomers = dataCustomers.sort_values(['Sales'], ascending = False).reset_index()"
      ],
      "execution_count": 23,
      "outputs": []
    },
    {
      "cell_type": "code",
      "metadata": {
        "id": "iwDhRPWQQByM",
        "colab_type": "code",
        "colab": {
          "base_uri": "https://localhost:8080/",
          "height": 630
        },
        "outputId": "d795ffa0-b25b-4290-f742-d075f9bcacbb"
      },
      "source": [
        "plt.figure(figsize=(20,10))\n",
        "sns.barplot(x='CustomerName',y='Sales', data=dataCustomers.head(10));\n",
        "plt.xlabel(\"Customer Name\", size=14)\n",
        "plt.ylabel(\"Sales\", size=14)\n",
        "plt.title(\"Top 10 Customers\", size=20);"
      ],
      "execution_count": 24,
      "outputs": [
        {
          "output_type": "display_data",
          "data": {
            "image/png": "[encoded data removed]",
            "text/plain": [
              "<Figure size 1440x720 with 1 Axes>"
            ]
          },
          "metadata": {
            "tags": [],
            "needs_background": "light"
          }
        }
      ]
    },
    {
      "cell_type": "code",
      "metadata": {
        "id": "1xGnI1GRXqKt",
        "colab_type": "code",
        "colab": {
          "base_uri": "https://localhost:8080/",
          "height": 522
        },
        "outputId": "82c5a28a-b686-4e5c-b3d2-1539704bcc84"
      },
      "source": [
        "plt.figure(figsize=(20,8))\n",
        "sns.barplot(x='CustomerName',y='Sales', data=dataCustomers.tail(10));\n",
        "plt.xlabel(\"Customer Name\", size=14)\n",
        "plt.ylabel(\"Sales\", size=14)\n",
        "plt.title(\"Bottom 10 Customers\", size=20);"
      ],
      "execution_count": 25,
      "outputs": [
        {
          "output_type": "display_data",
          "data": {
            "image/png": "[encoded data removed]",
            "text/plain": [
              "<Figure size 1440x576 with 1 Axes>"
            ]
          },
          "metadata": {
            "tags": [],
            "needs_background": "light"
          }
        }
      ]
    },
    {
      "cell_type": "code",
      "metadata": {
        "id": "wytOZkhtqqhZ",
        "colab_type": "code",
        "colab": {
          "base_uri": "https://localhost:8080/",
          "height": 498
        },
        "outputId": "ade8d1b9-4524-4412-9bc7-09349130d9b1"
      },
      "source": [
        "sns.set_palette('rainbow')\n",
        "plt.figure(figsize=(20,8))\n",
        "sns.distplot(df['Sales'], hist_kws={'alpha':0.4});\n",
        "plt.show()"
      ],
      "execution_count": 26,
      "outputs": [
        {
          "output_type": "display_data",
          "data": {
            "image/png": "[encoded data removed]",
            "text/plain": [
              "<Figure size 1440x576 with 1 Axes>"
            ]
          },
          "metadata": {
            "tags": [],
            "needs_background": "light"
          }
        }
      ]
    },
    {
      "cell_type": "code",
      "metadata": {
        "id": "bfLXpbS6N1YG",
        "colab_type": "code",
        "colab": {
          "base_uri": "https://localhost:8080/",
          "height": 304
        },
        "outputId": "15846f56-f658-4d4a-b54c-1a3a63b3523d"
      },
      "source": [
        "sns.countplot(\"Segment\", data=df);\n",
        "plt.xlabel(\"Segment\", size=14)\n",
        "plt.ylabel(\"Order Count\", size=14)\n",
        "plt.title(\"Orders Per Segment\", size=20);"
      ],
      "execution_count": 27,
      "outputs": [
        {
          "output_type": "display_data",
          "data": {
            "image/png": "[encoded data removed]",
            "text/plain": [
              "<Figure size 432x288 with 1 Axes>"
            ]
          },
          "metadata": {
            "tags": [],
            "needs_background": "light"
          }
        }
      ]
    },
    {
      "cell_type": "code",
      "metadata": {
        "id": "ehhORDhRH-Pu",
        "colab_type": "code",
        "colab": {
          "base_uri": "https://localhost:8080/",
          "height": 304
        },
        "outputId": "0f79ad02-6849-4063-d380-2944ebeae21a"
      },
      "source": [
        "sns.set_palette('RdBu')\n",
        "sns.countplot(\"Category\", data=df);\n",
        "plt.xlabel(\"Category\", size=14)\n",
        "plt.ylabel(\"Order Count\", size=14)\n",
        "plt.title(\"Orders Per Category\", size=20);"
      ],
      "execution_count": 28,
      "outputs": [
        {
          "output_type": "display_data",
          "data": {
            "image/png": "[encoded data removed]",
            "text/plain": [
              "<Figure size 432x288 with 1 Axes>"
            ]
          },
          "metadata": {
            "tags": [],
            "needs_background": "light"
          }
        }
      ]
    },
    {
      "cell_type": "code",
      "metadata": {
        "id": "Lyuf7gn5IaYq",
        "colab_type": "code",
        "colab": {
          "base_uri": "https://localhost:8080/",
          "height": 522
        },
        "outputId": "5ed055c9-c7c1-4ad0-b5e7-2faadc8f05d4"
      },
      "source": [
        "sns.set_palette(\"Set3\", 20)\n",
        "plt.figure(figsize=(20,8))\n",
        "sns.countplot(\"SubCategory\", data=df);\n",
        "plt.xlabel(\"SubCategory\", size=14)\n",
        "plt.ylabel(\"Order Count\", size=14)\n",
        "plt.title(\"Orders Per SubCategory\", size=20);"
      ],
      "execution_count": 29,
      "outputs": [
        {
          "output_type": "display_data",
          "data": {
            "image/png": "[encoded data removed]",
            "text/plain": [
              "<Figure size 1440x576 with 1 Axes>"
            ]
          },
          "metadata": {
            "tags": [],
            "needs_background": "light"
          }
        }
      ]
    },
    {
      "cell_type": "code",
      "metadata": {
        "id": "xoKxR1VXJFAq",
        "colab_type": "code",
        "colab": {
          "base_uri": "https://localhost:8080/",
          "height": 304
        },
        "outputId": "8d790481-21bd-465f-c0b3-68d9ea29eaf1"
      },
      "source": [
        "sns.set_palette('rainbow')\n",
        "sns.countplot(\"Region\", data=df);\n",
        "plt.xlabel(\"Region\", size=14)\n",
        "plt.ylabel(\"Order Count\", size=14)\n",
        "plt.title(\"Orders Per Region\", size=20);"
      ],
      "execution_count": 30,
      "outputs": [
        {
          "output_type": "display_data",
          "data": {
            "image/png": "[encoded data removed]",
            "text/plain": [
              "<Figure size 432x288 with 1 Axes>"
            ]
          },
          "metadata": {
            "tags": [],
            "needs_background": "light"
          }
        }
      ]
    },
    {
      "cell_type": "code",
      "metadata": {
        "id": "LQocXukkJcMU",
        "colab_type": "code",
        "colab": {
          "base_uri": "https://localhost:8080/",
          "height": 258
        },
        "outputId": "902a1e0a-fc43-4d1b-daf6-d5f04664e707"
      },
      "source": [
        "sns.set_palette('RdBu')\n",
        "region_hist = sns.FacetGrid(df, col='ShipMode');\n",
        "region_hist.map(plt.hist, 'Region')\n",
        "region_hist.fig.suptitle(\"Shipping Mode Per Region\", fontsize=18, y=1.1)\n",
        "region_hist.set_ylabels('Number');"
      ],
      "execution_count": 31,
      "outputs": [
        {
          "output_type": "display_data",
          "data": {
            "image/png": "[encoded data removed]",
            "text/plain": [
              "<Figure size 864x216 with 4 Axes>"
            ]
          },
          "metadata": {
            "tags": [],
            "needs_background": "light"
          }
        }
      ]
    },
    {
      "cell_type": "code",
      "metadata": {
        "id": "WXE7sFkjJcnV",
        "colab_type": "code",
        "colab": {
          "base_uri": "https://localhost:8080/",
          "height": 258
        },
        "outputId": "6cbf273e-ccc2-4f8d-9321-c7a36dbd035b"
      },
      "source": [
        "sns.set_palette('Greens_r')\n",
        "category_hist = sns.FacetGrid(df, col='ShipMode');\n",
        "category_hist.map(plt.hist, 'Category')\n",
        "category_hist.fig.suptitle(\"Shipping Mode Per Category\", fontsize=18, y=1.1)\n",
        "category_hist.set_ylabels('Number');"
      ],
      "execution_count": 32,
      "outputs": [
        {
          "output_type": "display_data",
          "data": {
            "image/png": "[encoded data removed]",
            "text/plain": [
              "<Figure size 864x216 with 4 Axes>"
            ]
          },
          "metadata": {
            "tags": [],
            "needs_background": "light"
          }
        }
      ]
    },
    {
      "cell_type": "code",
      "metadata": {
        "id": "rjs9zKJLJ0Ia",
        "colab_type": "code",
        "colab": {
          "base_uri": "https://localhost:8080/",
          "height": 522
        },
        "outputId": "b2d7a7ee-8d72-47c7-fc57-5d380722cfcc"
      },
      "source": [
        "plt.figure(figsize=(20,8))\n",
        "sale_category = df.groupby([\"Category\",\"SubCategory\"])['Sales'].aggregate(np.sum).reset_index().sort_values('Sales',ascending = False)\n",
        "sns.barplot(x = \"Category\", hue=\"SubCategory\", y= \"Sales\", data=sale_category, palette = \"Paired\")\n",
        "plt.xlabel(\"Category\", size=14)\n",
        "plt.ylabel(\"Sales\", size=14)\n",
        "plt.title(\"Sales per SubCategory\", size=20);\n",
        "plt.show()"
      ],
      "execution_count": 33,
      "outputs": [
        {
          "output_type": "display_data",
          "data": {
            "image/png": "[encoded data removed]",
            "text/plain": [
              "<Figure size 1440x576 with 1 Axes>"
            ]
          },
          "metadata": {
            "tags": [],
            "needs_background": "light"
          }
        }
      ]
    },
    {
      "cell_type": "code",
      "metadata": {
        "id": "pznOYO3bJcxH",
        "colab_type": "code",
        "colab": {
          "base_uri": "https://localhost:8080/",
          "height": 498
        },
        "outputId": "7be57e8f-4d6d-4e12-e721-a37e45e580e3"
      },
      "source": [
        "df2 = df.copy()\n",
        "df2.set_index('OrderDate', inplace= True)\n",
        "df2['Sales'].plot(x='OrderDate',figsize=(20,8))\n",
        "plt.ylabel(\"Sales\", size=14)\n",
        "plt.xlabel(\"Order Date\", size=14)\n",
        "plt.title(\"Sales Per Day\", size=20);\n",
        "plt.show()"
      ],
      "execution_count": 34,
      "outputs": [
        {
          "output_type": "display_data",
          "data": {
            "image/png": "[encoded data removed]",
            "text/plain": [
              "<Figure size 1440x576 with 1 Axes>"
            ]
          },
          "metadata": {
            "tags": [],
            "needs_background": "light"
          }
        }
      ]
    }
  ]
}